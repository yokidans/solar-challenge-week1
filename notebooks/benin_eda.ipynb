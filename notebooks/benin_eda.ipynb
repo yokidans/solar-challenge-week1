{
 "cells": [
  {
   "cell_type": "markdown",
   "metadata": {},
   "source": [
    "# Solar Data EDA: Benin Analysis\n",
    "**Author**: Teferi amo  \n",
    "**Date**: May 18, 2025  \n",
    "**Country**: Benin"
   ]
  },
  {
   "cell_type": "code",
   "execution_count": null,
   "metadata": {},
   "outputs": [],
   "source": [
    "# Import libraries\n",
    "import numpy as np\n",
    "import pandas as pd\n",
    "import matplotlib.pyplot as plt\n",
    "import seaborn as sns\n",
    "from scipy import stats\n",
    "from pathlib import Path\n",
    "\n",
    "# Set visualization style\n",
    "plt.style.use('seaborn-v0_8')\n",
    "sns.set_palette(\"husl\")\n",
    "pd.set_option('display.float_format', lambda x: '%.2f' % x)"
   ]
  },
  {
   "cell_type": "markdown",
   "metadata": {},
   "source": [
    "## 1. Data Loading & Initial Inspection"
   ]
  },
  {
   "cell_type": "code",
   "execution_count": null,
   "metadata": {},
   "outputs": [],
   "source": [
    "# Load data\n",
    "data_path = Path('data/Togo_solar.csv')  # Update path as needed\n",
    "try:\n",
    "    df = pd.read_csv(data_path, parse_dates=['Timestamp'], index_col='Timestamp')\n",
    "    print(f\"Dataset shape: {df.shape}\")\n",
    "    display(df.head(3))\n",
    "except FileNotFoundError:\n",
    "    print(f\"Error: File not found at {data_path.absolute()}\")\n",
    "    raise"
   ]
  },
  {
   "cell_type": "markdown",
   "metadata": {},
   "source": [
    "## 2. Summary Statistics & Missing-Value Report"
   ]
  },
  {
   "cell_type": "code",
   "execution_count": null,
   "metadata": {},
   "outputs": [],
   "source": [
    "# Basic statistics\n",
    "display(df.describe(percentiles=[.01, .25, .5, .75, .99]))\n",
    "\n",
    "# Missing value analysis\n",
    "missing_report = pd.DataFrame({\n",
    "    'Missing Values': df.isna().sum(),\n",
    "    'Missing %': (df.isna().mean() * 100).round(2)\n",
    "})\n",
    "display(missing_report[missing_report['Missing %'] > 5])"
   ]
  },
  {
   "cell_type": "markdown",
   "metadata": {},
   "source": [
    "## 3. Outlier Detection & Cleaning"
   ]
  },
  {
   "cell_type": "code",
   "execution_count": null,
   "metadata": {},
   "outputs": [],
   "source": [
    "# Define key columns\n",
    "key_columns = ['GHI', 'DNI', 'DHI', 'ModA', 'ModB', 'WS', 'WSgust']\n",
    "\n",
    "# Calculate Z-scores\n",
    "z_scores = pd.DataFrame()\n",
    "for col in key_columns:\n",
    "    z_scores[col] = np.abs(stats.zscore(df[col], nan_policy='omit'))\n",
    "\n",
    "# Flag outliers\n",
    "df['outlier_flag'] = (z_scores > 3).any(axis=1)\n",
    "\n",
    "# Visualize outliers\n",
    "plt.figure(figsize=(12, 6))\n",
    "for i, col in enumerate(key_columns, 1):\n",
    "    plt.subplot(2, 4, i)\n",
    "    sns.boxplot(y=df[col])\n",
    "    plt.title(col)\n",
    "plt.tight_layout()\n",
    "plt.show()\n",
    "\n",
    "# Handle missing values\n",
    "df_clean = df.copy()\n",
    "for col in key_columns:\n",
    "    df_clean[col] = df_clean[col].fillna(df_clean[col].median())\n",
    "\n",
    "# Save cleaned data\n",
    "output_path = Path('data/processed/benin_clean.csv')\n",
    "output_path.parent.mkdir(exist_ok=True)\n",
    "df_clean.to_csv(output_path)\n",
    "print(f\"Saved cleaned data to {output_path}\")"
   ]
  },
  {
   "cell_type": "markdown",
   "metadata": {},
   "source": [
    "## 4. Time Series Analysis"
   ]
  },
  {
   "cell_type": "code",
   "execution_count": null,
   "metadata": {},
   "outputs": [],
   "source": [
    "# Ensure datetime index\n",
    "if not isinstance(df_clean.index, pd.DatetimeIndex):\n",
    "    df_clean.index = pd.to_datetime(df_clean.index)\n",
    "\n",
    "# Resample to daily averages\n",
    "daily = df_clean.resample('D').mean()\n",
    "\n",
    "# Plot time series\n",
    "fig, axes = plt.subplots(4, 1, figsize=(15, 12))\n",
    "variables = ['GHI', 'DNI', 'DHI', 'Tamb']\n",
    "for ax, var in zip(axes, variables):\n",
    "    daily[var].plot(ax=ax, title=f'Daily {var}')\n",
    "    ax.set_ylabel(var)\n",
    "plt.tight_layout()\n",
    "plt.show()\n",
    "\n",
    "# Monthly patterns\n",
    "monthly = df_clean.groupby(df_clean.index.month).mean()\n",
    "monthly[variables].plot(subplots=True, figsize=(12, 10))\n",
    "plt.suptitle('Monthly Patterns')\n",
    "plt.tight_layout()\n",
    "plt.show()"
   ]
  },
  {
   "cell_type": "markdown",
   "metadata": {},
   "source": [
    "## 5. Correlation Analysis"
   ]
  },
  {
   "cell_type": "code",
   "execution_count": null,
   "metadata": {},
   "outputs": [],
   "source": [
    "# Correlation heatmap\n",
    "corr_cols = ['GHI', 'DNI', 'DHI', 'TModA', 'TModB', 'Tamb', 'RH']\n",
    "plt.figure(figsize=(10, 8))\n",
    "sns.heatmap(df_clean[corr_cols].corr(), annot=True, cmap='coolwarm', center=0)\n",
    "plt.title('Correlation Matrix')\n",
    "plt.show()\n",
    "\n",
    "# Scatter plots\n",
    "plt.figure(figsize=(15, 10))\n",
    "plt.subplot(2, 2, 1)\n",
    "sns.scatterplot(x='WS', y='GHI', data=df_clean, alpha=0.5)\n",
    "plt.title('Wind Speed vs GHI')\n",
    "\n",
    "plt.subplot(2, 2, 2)\n",
    "sns.scatterplot(x='RH', y='Tamb', data=df_clean, alpha=0.5)\n",
    "plt.title('RH vs Ambient Temp')\n",
    "\n",
    "plt.subplot(2, 2, 3)\n",
    "sns.scatterplot(x='WD', y='GHI', data=df_clean, alpha=0.5)\n",
    "plt.title('Wind Direction vs GHI')\n",
    "\n",
    "plt.subplot(2, 2, 4)\n",
    "sns.scatterplot(x='RH', y='GHI', data=df_clean, alpha=0.5)\n",
    "plt.title('RH vs GHI')\n",
    "plt.tight_layout()\n",
    "plt.show()"
   ]
  },
  {
   "cell_type": "markdown",
   "metadata": {},
   "source": [
    "## 6. Wind & Distribution Analysis"
   ]
  },
  {
   "cell_type": "code",
   "execution_count": null,
   "metadata": {},
   "outputs": [],
   "source": [
    "# Wind direction histogram\n",
    "plt.figure(figsize=(10, 6))\n",
    "plt.hist(df_clean['WD'], bins=36, edgecolor='black')\n",
    "plt.xlabel('Wind Direction (degrees)')\n",
    "plt.ylabel('Frequency')\n",
    "plt.title('Wind Direction Distribution')\n",
    "plt.show()\n",
    "\n",
    "# Histograms\n",
    "plt.figure(figsize=(12, 5))\n",
    "plt.subplot(1, 2, 1)\n",
    "sns.histplot(df_clean['GHI'], kde=True, bins=30)\n",
    "plt.title('GHI Distribution')\n",
    "\n",
    "plt.subplot(1, 2, 2)\n",
    "sns.histplot(df_clean['WS'], kde=True, bins=30)\n",
    "plt.title('Wind Speed Distribution')\n",
    "plt.tight_layout()\n",
    "plt.show()"
   ]
  },
  {
   "cell_type": "markdown",
   "metadata": {},
   "source": [
    "## 7. Key Findings & Recommendations"
   ]
  },
  {
   "cell_type": "code",
   "execution_count": null,
   "metadata": {},
   "outputs": [],
   "source": [
    "# Summary statistics\n",
    "display(df_clean.describe())\n",
    "\n",
    "# Calculate insights\n",
    "ghi_mean = df_clean['GHI'].mean()\n",
    "outlier_pct = df_clean['outlier_flag'].mean() * 100\n",
    "sensor_diff = abs(df_clean['ModA'] - df_clean['ModB']).mean()\n",
    "\n",
    "print(f\"\"\"\n",
    "### Key Findings:\n",
    "\n",
    "1. **Solar Potential**: \n",
    "   - Average GHI: {ghi_mean:.1f} W/m²\n",
    "   - Peak GHI occurs in month {monthly['GHI'].idxmax()}\n",
    "\n",
    "2. **Data Quality**:\n",
    "   - {outlier_pct:.1f}% of readings flagged as outliers\n",
    "   - Sensor consistency: ModA and ModB differ by {sensor_diff:.2f}°C on average\n",
    "\n",
    "3. **Weather Impact**:\n",
    "   - Strong {'negative' if df_clean[['GHI','RH']].corr().iloc[0,1] < 0 else 'positive'} correlation between RH and GHI\n",
    "\n",
    "### Recommendations:\n",
    "\n",
    "1. **Maintenance Focus**:\n",
    "   - Investigate sensor drift between ModA and ModB\n",
    "   - Check wind sensors during low-wind periods\n",
    "\n",
    "2. **Performance Optimization**:\n",
    "   - Schedule cleaning during low-radiation periods\n",
    "   - Adjust tilt angles based on predominant wind direction\n",
    "\"\"\")"
   ]
  }
 ],
 "metadata": {
  "kernelspec": {
   "display_name": "Python 3 (ipykernel)",
   "language": "python",
   "name": "python3"
  },
  "language_info": {
   "codemirror_mode": {
    "name": "ipython",
    "version": 3
   },
   "file_extension": ".py",
   "mimetype": "text/x-python",
   "name": "python",
   "nbconvert_exporter": "python",
   "pygments_lexer": "ipython3",
   "version": "3.9.12"
  }
 },
 "nbformat": 4,
 "nbformat_minor": 4
}
